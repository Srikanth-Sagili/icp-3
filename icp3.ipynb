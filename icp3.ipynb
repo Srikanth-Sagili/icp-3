{
 "cells": [
  {
   "cell_type": "code",
   "execution_count": 4,
   "id": "ccdb5571-2a65-4941-bec6-4e714f296ea2",
   "metadata": {},
   "outputs": [
    {
     "name": "stdin",
     "output_type": "stream",
     "text": [
      "Enter employee name:  srikanth reddy\n",
      "Enter family name:  sagili \n",
      "Enter salary:  1234\n",
      "Enter department:  mech\n",
      "Enter full-time employee name:  sagili srikanth reddy\n",
      "Enter family name:  sagili\n",
      "Enter salary:  1234\n",
      "Enter department:  mech\n"
     ]
    },
    {
     "name": "stdout",
     "output_type": "stream",
     "text": [
      "Average Salary: 1234.0\n",
      "Average Salary: 1234.0\n",
      "Total number of employees: 2\n"
     ]
    }
   ],
   "source": [
    "class Employee:\n",
    "    employee_count = 0\n",
    "    total_salary = 0\n",
    "\n",
    "    def __init__(self, name, family, salary, department):\n",
    "        self.name = name\n",
    "        self.family = family\n",
    "        self.salary = salary\n",
    "        self.department = department\n",
    "\n",
    "        Employee.employee_count += 1\n",
    "        Employee.total_salary += salary\n",
    "\n",
    "    def average_salary(self):\n",
    "        if Employee.employee_count > 0:\n",
    "            avg_salary = Employee.total_salary / Employee.employee_count\n",
    "            print(f\"Average Salary: {avg_salary}\")\n",
    "        else:\n",
    "            print(\"No employees to calculate average salary.\")\n",
    "\n",
    "class FulltimeEmployee(Employee):\n",
    "    pass\n",
    "    \n",
    "name = input(\"Enter employee name: \")\n",
    "family = input(\"Enter family name: \")\n",
    "salary = float(input(\"Enter salary: \"))\n",
    "department = input(\"Enter department: \")\n",
    "\n",
    "employee_instance = Employee(name, family, salary, department)\n",
    "\n",
    "name = input(\"Enter full-time employee name: \")\n",
    "family = input(\"Enter family name: \")\n",
    "salary = float(input(\"Enter salary: \"))\n",
    "department = input(\"Enter department: \")\n",
    "\n",
    "fulltime_employee_instance = FulltimeEmployee(name, family, salary, department)\n",
    "\n",
    "employee_instance.average_salary()\n",
    "fulltime_employee_instance.average_salary()\n",
    "\n",
    "print(f\"Total number of employees: {Employee.employee_count}\")"
   ]
  },
  {
   "cell_type": "code",
   "execution_count": 5,
   "id": "3b78eff0-cee9-4684-92ef-77c6cb1289fa",
   "metadata": {},
   "outputs": [
    {
     "name": "stdout",
     "output_type": "stream",
     "text": [
      "Vector\n",
      "[ 7.14588997  5.42914303  7.18521938  7.12335075  0.          3.51230306\n",
      " 11.96507302 10.91534604  0.          1.76186672  0.         12.13317645\n",
      " 18.57895169  5.32851947  6.58590997  3.93580667  7.35858618  0.\n",
      " 14.49912344  3.3690277 ]\n",
      "\n",
      " Array\n",
      "[[ 7.14588997  5.42914303  7.18521938  7.12335075  0.        ]\n",
      " [ 3.51230306 11.96507302 10.91534604  0.          1.76186672]\n",
      " [ 0.         12.13317645 18.57895169  5.32851947  6.58590997]\n",
      " [ 3.93580667  7.35858618  0.         14.49912344  3.3690277 ]]\n"
     ]
    }
   ],
   "source": [
    "import numpy as np\n",
    "vector = np.random.uniform(1, 20, 20)\n",
    "array = vector.reshape(4, 5)\n",
    "array[np.arange(len(array)), array.argmax(axis=1)] = 0\n",
    "print(\"Vector\")\n",
    "print(vector)\n",
    "print(\"\\n Array\")\n",
    "print(array)"
   ]
  },
  {
   "cell_type": "code",
   "execution_count": null,
   "id": "574689ae-7882-4044-8ec0-f71e41b4858f",
   "metadata": {},
   "outputs": [],
   "source": []
  }
 ],
 "metadata": {
  "kernelspec": {
   "display_name": "Python 3 (ipykernel)",
   "language": "python",
   "name": "python3"
  },
  "language_info": {
   "codemirror_mode": {
    "name": "ipython",
    "version": 3
   },
   "file_extension": ".py",
   "mimetype": "text/x-python",
   "name": "python",
   "nbconvert_exporter": "python",
   "pygments_lexer": "ipython3",
   "version": "3.12.1"
  }
 },
 "nbformat": 4,
 "nbformat_minor": 5
}
